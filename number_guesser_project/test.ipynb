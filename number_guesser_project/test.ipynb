{
 "cells": [
  {
   "cell_type": "code",
   "execution_count": 8,
   "id": "58580e03",
   "metadata": {},
   "outputs": [],
   "source": [
    "from random import randint\n"
   ]
  },
  {
   "cell_type": "code",
   "execution_count": 31,
   "id": "0c8caf8a",
   "metadata": {},
   "outputs": [
    {
     "data": {
      "text/plain": [
       "39"
      ]
     },
     "execution_count": 31,
     "metadata": {},
     "output_type": "execute_result"
    }
   ],
   "source": [
    "number_random = randint(1, 100)\n",
    "number_random"
   ]
  },
  {
   "cell_type": "code",
   "execution_count": null,
   "id": "14fdd003",
   "metadata": {},
   "outputs": [],
   "source": [
    "your_guess = int(input('Pleae enter your guess here: '))\n",
    "your_remaining_score = 10\n",
    "game_is_on = 'yes'\n"
   ]
  },
  {
   "cell_type": "code",
   "execution_count": null,
   "id": "1c78cd13",
   "metadata": {},
   "outputs": [
    {
     "name": "stdout",
     "output_type": "stream",
     "text": [
      " your quess, 50, is correct.\n",
      "Hint: The actual number is less than what you guessed!\n",
      "Your current score is 9 \n",
      " your quess, 30, is correct.\n",
      "Hint: The actual number is less than what you guessed!\n",
      "Your current score is 9 \n",
      "Hint: The actual number is less than what you guessed!\n",
      "Your current score is 8 \n",
      " your quess, 15, is correct.\n",
      " your quess, 50, is correct.\n",
      "Hint: The actual number is less than what you guessed!\n",
      "Your current score is 9 \n",
      "Hint: The actual number is less than what you guessed!\n",
      "Your current score is 8 \n",
      "Hint: The actual number is less than what you guessed!\n",
      "Your current score is 7 \n",
      "Hint: The actual number is less than what you guessed!\n",
      "Your current score is 6 \n",
      " your quess, 3, is correct.\n",
      " your quess, 50, is correct.\n",
      "Hint: The actual number is less than what you guessed!\n",
      "Your current score is 9 \n",
      "Hint: The actual number is higher that what you guessed!\n",
      "Your current score is 8 \n",
      "Hint: The actual number is less than what you guessed!\n",
      "Your current score is 7 \n",
      "Hint: The actual number is less than what you guessed!\n",
      "Your current score is 6 \n",
      " your quess, 7, is correct.\n",
      "Hint: The actual number is less than what you guessed!\n",
      "Your current score is 9 \n",
      "Hint: The actual number is less than what you guessed!\n",
      "Your current score is 8 \n",
      "Hint: The actual number is higher that what you guessed!\n",
      "Your current score is 7 \n",
      "Hint: The actual number is less than what you guessed!\n",
      "Your current score is 6 \n",
      "Hint: The actual number is less than what you guessed!\n",
      "Your current score is 5 \n",
      " your quess, 8, is correct.\n",
      "Hint: The actual number is less than what you guessed!\n",
      "Your current score is 9 \n",
      " your quess, 2, is correct.\n",
      "Hint: The actual number is less than what you guessed!\n",
      "Your current score is 9 \n"
     ]
    },
    {
     "ename": "ValueError",
     "evalue": "invalid literal for int() with base 10: ''",
     "output_type": "error",
     "traceback": [
      "\u001b[31m---------------------------------------------------------------------------\u001b[39m",
      "\u001b[31mValueError\u001b[39m                                Traceback (most recent call last)",
      "\u001b[36mCell\u001b[39m\u001b[36m \u001b[39m\u001b[32mIn[32]\u001b[39m\u001b[32m, line 10\u001b[39m\n\u001b[32m      8\u001b[39m   your_remaining_score -=\u001b[32m1\u001b[39m\n\u001b[32m      9\u001b[39m   \u001b[38;5;28mprint\u001b[39m(\u001b[33mf\u001b[39m\u001b[33m\"\u001b[39m\u001b[33mYour current score is \u001b[39m\u001b[38;5;132;01m{\u001b[39;00myour_remaining_score\u001b[38;5;132;01m}\u001b[39;00m\u001b[33m \u001b[39m\u001b[33m\"\u001b[39m)\n\u001b[32m---> \u001b[39m\u001b[32m10\u001b[39m   your_guess = \u001b[38;5;28;43mint\u001b[39;49m\u001b[43m(\u001b[49m\u001b[38;5;28;43minput\u001b[39;49m\u001b[43m(\u001b[49m\u001b[33;43m'\u001b[39;49m\u001b[33;43mPleae enter your guess here: \u001b[39;49m\u001b[33;43m'\u001b[39;49m\u001b[43m)\u001b[49m\u001b[43m)\u001b[49m\n\u001b[32m     11\u001b[39m \u001b[38;5;28;01melif\u001b[39;00m your_guess < number_random & your_remaining_score > \u001b[32m0\u001b[39m:\n\u001b[32m     12\u001b[39m   \u001b[38;5;28mprint\u001b[39m(\u001b[33m\"\u001b[39m\u001b[33mHint: The actual number is higher that what you guessed!\u001b[39m\u001b[33m\"\u001b[39m)\n",
      "\u001b[31mValueError\u001b[39m: invalid literal for int() with base 10: ''"
     ]
    }
   ],
   "source": [
    "number_random = randint(1, 100)\n",
    "your_guess = int(input('Pleae enter your guess here: '))\n",
    "your_remaining_score = 10\n",
    "game_is_on = 'yes'\n",
    "while game_is_on != \"q\":\n",
    "  if your_guess > number_random and your_remaining_score > 0 :\n",
    "    print(\"Hint: The actual number is less than what you guessed!\")\n",
    "    your_remaining_score -=1\n",
    "    print(f\"Your current score is {your_remaining_score} \")\n",
    "    your_guess = int(input('Please enter your guess here: '))\n",
    "  elif your_guess < number_random and your_remaining_score > 0:\n",
    "    print(\"Hint: The actual number is higher that what you guessed!\")\n",
    "    your_remaining_score -=1\n",
    "    print(f\"Your current score is {your_remaining_score} \")\n",
    "    your_guess = int(input('Please enter your guess here: '))\n",
    "  elif your_remaining_score == 0:\n",
    "    print(f\" Your score is now {your_remaining_score}, and you must decide again!.\")\n",
    "    game_is_on = input(\"Do you want to quit the game or play agian? Enter any comments but 'q'for another game, or use 'q' to quit the game: \").lower()\n",
    "    your_remaining_score = 10\n",
    "    number_random = randint(1, 100)\n",
    "    your_guess = int(input('Please enter your guess here: '))\n",
    "  else:\n",
    "    print(f\" Your quess, {your_guess}, is correct.\")\n",
    "    game_is_on = input(\"Do you want to quit the game or play agian? Enter any comments but 'q'for another game, or use 'q' to quit the game: \").lower()\n",
    "    number_random = randint(1, 100)\n",
    "    your_guess = int(input('Please enter your guess here: '))\n",
    "    your_remaining_score = 10\n",
    "\n",
    "      \n",
    "  \n",
    "  \n",
    "  "
   ]
  },
  {
   "cell_type": "code",
   "execution_count": null,
   "id": "3310e051",
   "metadata": {},
   "outputs": [],
   "source": []
  }
 ],
 "metadata": {
  "kernelspec": {
   "display_name": "basic_projects",
   "language": "python",
   "name": "python3"
  },
  "language_info": {
   "codemirror_mode": {
    "name": "ipython",
    "version": 3
   },
   "file_extension": ".py",
   "mimetype": "text/x-python",
   "name": "python",
   "nbconvert_exporter": "python",
   "pygments_lexer": "ipython3",
   "version": "3.12.11"
  }
 },
 "nbformat": 4,
 "nbformat_minor": 5
}
